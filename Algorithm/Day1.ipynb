{
 "cells": [
  {
   "cell_type": "code",
   "execution_count": 4,
   "metadata": {},
   "outputs": [
    {
     "name": "stdout",
     "output_type": "stream",
     "text": [
      "-300 299\n",
      "-1\n"
     ]
    }
   ],
   "source": [
    "a, b = map(int, input().split())\n",
    "print(a + b)"
   ]
  },
  {
   "cell_type": "code",
   "execution_count": 7,
   "metadata": {},
   "outputs": [
    {
     "name": "stdout",
     "output_type": "stream",
     "text": [
      "4\n",
      "1 1\n",
      "1000 100000\n",
      "-300 299\n",
      "961231 920913\n",
      "2\n",
      "101000\n",
      "-1\n",
      "1882144\n"
     ]
    }
   ],
   "source": [
    "n = int(input())\n",
    "for _ in range(n):\n",
    "    a, b = map(int, input().split())\n",
    "    print(a+b)"
   ]
  },
  {
   "cell_type": "code",
   "execution_count": 8,
   "metadata": {},
   "outputs": [
    {
     "name": "stdout",
     "output_type": "stream",
     "text": [
      "3\n",
      "1 5 9 11 12\n",
      "0 1 0 2 0 3 0 4 0 5\n",
      "100 120 -20 -30\n",
      "38\n",
      "15\n",
      "170\n"
     ]
    }
   ],
   "source": [
    "n = int(input())\n",
    "result = []\n",
    "for _ in range(n):\n",
    "    listNum = list(map(int, input().split()))\n",
    "    result.append(sum(listNum))\n",
    "    \n",
    "for item in result:\n",
    "    print(item)"
   ]
  },
  {
   "cell_type": "code",
   "execution_count": 9,
   "metadata": {},
   "outputs": [
    {
     "name": "stdout",
     "output_type": "stream",
     "text": [
      "3\n",
      "10 37 19 48 2 5\n",
      "-5 -5 -5 -5 -5 -5 -5 -5\n",
      "1 2 3 4 5 6 5 4 3 2 1 0 -1 99 100 -20\n",
      "[46, 0, 120]\n",
      "[46, 0, 120]\n",
      "[46, 0, 120]\n"
     ]
    }
   ],
   "source": [
    "n = int(input())\n",
    "listResult = []\n",
    "for _ in range(n):\n",
    "    listNum = list(map(int, input().split()))\n",
    "    \n",
    "    \n",
    "    listResult.append(max(listNum) - min(listNum))\n",
    "    \n",
    "for result in listResult:\n",
    "    print(result)"
   ]
  },
  {
   "cell_type": "code",
   "execution_count": 68,
   "metadata": {},
   "outputs": [
    {
     "name": "stdout",
     "output_type": "stream",
     "text": [
      "4\n",
      "7\n",
      "7\n",
      "6 3 1 5 4\n",
      "6 5 4 3 1\n",
      "10 20 30 20 10 10 -1\n",
      "30 20 20 10 10 10 -1\n",
      "217 913 1231 411 0 0 0 0 0 0 0 0 0\n",
      "1231 913 411 217 0 0 0 0 0 0 0 0 0\n"
     ]
    }
   ],
   "source": [
    "T = int(input())\n",
    "listResult = []\n",
    "for _ in range(T):\n",
    "    listNum = list(map(int, input().split()))\n",
    "    print(*sorted(listNum, reverse = True))"
   ]
  },
  {
   "cell_type": "code",
   "execution_count": 20,
   "metadata": {},
   "outputs": [
    {
     "name": "stdout",
     "output_type": "stream",
     "text": [
      "3\n",
      "7\n",
      "7\n",
      "6 3 1 5 4\n",
      "7 2 3 9 5\n",
      "61 49 77 70 22 18 26 33 30 21\n",
      "65 48 70 61 33 41 19 21\n",
      "YES\n",
      "NONOYESNOYES\n",
      "NONOYESYESYESNONOYES\n"
     ]
    }
   ],
   "source": [
    "T = int(input())\n",
    "listResult = []\n",
    "for _ in range(T):\n",
    "    listNumT = list(map(int, input().split()))\n",
    "    listNumP = list(map(int, input().split()))\n",
    "    \n",
    "    strResult = ''\n",
    "    for num in listNumP:\n",
    "        if num in listNumT:\n",
    "            strResult += 'YES '\n",
    "        else:\n",
    "            strResult += 'NO '\n",
    "    listResult.append(strResult)\n",
    "    \n",
    "for item in listResult:\n",
    "    print(item)"
   ]
  },
  {
   "cell_type": "code",
   "execution_count": 31,
   "metadata": {},
   "outputs": [
    {
     "name": "stdout",
     "output_type": "stream",
     "text": [
      "1\n",
      "7\n",
      "2 7\n",
      "12 4\n",
      "4 5\n",
      "10 7\n",
      "6 2\n",
      "9 1\n",
      "8 8\n",
      "8 8 9 1\n"
     ]
    }
   ],
   "source": [
    "import math\n",
    "\n",
    "T = int(input())\n",
    "\n",
    "listResult = []\n",
    "for _ in range(T):\n",
    "    N = int(input())\n",
    "    listData = []\n",
    "    for _ in range(N):\n",
    "        listData.append(tuple(map(int, input().split())))\n",
    "        \n",
    "    listData.sort(key = lambda x:x[0])\n",
    "        \n",
    "    maxS = abs((listData[1][1] - listData[0][1]) / (listData[1][0] - listData[0][0]))\n",
    "    maxIndex = 0\n",
    "    for index in range(1, N-1):\n",
    "        S = abs((listData[index][1] - listData[index+1][1]) / (listData[index][0] - listData[index+1][0]))\n",
    "        if S > maxS:\n",
    "            maxS = S\n",
    "            maxIndex = index\n",
    "            \n",
    "    strResult = '%d %d %d %d' % (listData[maxIndex][0], listData[maxIndex][1], listData[maxIndex+1][0], listData[maxIndex+1][1])\n",
    "    listResult.append(strResult)\n",
    "            \n",
    "    \n",
    "\n",
    "for item in listResult:\n",
    "    print(item)"
   ]
  },
  {
   "cell_type": "code",
   "execution_count": 2,
   "metadata": {},
   "outputs": [
    {
     "name": "stdout",
     "output_type": "stream",
     "text": [
      "1\n",
      "0 3 7 13\n",
      "17\n"
     ]
    }
   ],
   "source": [
    "def Distance(setNum, num):\n",
    "    totalD = 0\n",
    "    for house in setNum:\n",
    "        totalD += abs(house - num)\n",
    "\n",
    "    return totalD\n",
    "\n",
    "T = int(input())\n",
    "for _ in range(T):\n",
    "    listNum = list(map(int, input().split()))\n",
    "    index = len(listNum) // 2\n",
    "    print(Distance(listNum, listNum[index]))\n",
    "\n",
    "    \n"
   ]
  },
  {
   "cell_type": "code",
   "execution_count": null,
   "metadata": {},
   "outputs": [],
   "source": [
    "3"
   ]
  }
 ],
 "metadata": {
  "kernelspec": {
   "display_name": "Python 3",
   "language": "python",
   "name": "python3"
  },
  "language_info": {
   "codemirror_mode": {
    "name": "ipython",
    "version": 3
   },
   "file_extension": ".py",
   "mimetype": "text/x-python",
   "name": "python",
   "nbconvert_exporter": "python",
   "pygments_lexer": "ipython3",
   "version": "3.8.3"
  }
 },
 "nbformat": 4,
 "nbformat_minor": 4
}
