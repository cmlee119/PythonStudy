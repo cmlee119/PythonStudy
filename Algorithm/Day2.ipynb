{
 "cells": [
  {
   "cell_type": "code",
   "execution_count": 10,
   "metadata": {
    "scrolled": false
   },
   "outputs": [
    {
     "name": "stdout",
     "output_type": "stream",
     "text": [
      "3\n",
      "5 5 4 4 4 3 1\n",
      "1 4 5\n",
      "1 3 2\n",
      "1 2 1 2 3 1 2 3 4 1 2 3 4 5\n",
      "1 2 3 4 5 6\n",
      "4 4 3 2 1 0\n",
      "30 30 30 30 30 30 30 30 30 30\n",
      "30 3 30 3 30 3 30\n",
      "10 0 10 0 10 0 10\n"
     ]
    }
   ],
   "source": [
    "T = int(input())\n",
    "\n",
    "for _ in range(T):\n",
    "    listNum = list(map(int, input().split())) \n",
    "    listFindNum = list(map(int, input().split()))\n",
    "\n",
    "    print(*[listNum.count(i) for i in listFindNum])"
   ]
  },
  {
   "cell_type": "code",
   "execution_count": null,
   "metadata": {},
   "outputs": [],
   "source": []
  },
  {
   "cell_type": "code",
   "execution_count": 11,
   "metadata": {},
   "outputs": [
    {
     "name": "stdout",
     "output_type": "stream",
     "text": [
      "1\n",
      "()()\n",
      "YES\n"
     ]
    }
   ],
   "source": [
    "T = int(input())\n",
    "\n",
    "def myFunc(strText):\n",
    "    stack = []\n",
    "    \n",
    "    for char in strText:\n",
    "        if char in ('(', '{', '['):\n",
    "            stack.append(char)\n",
    "        elif char in (')', '}', ']'):\n",
    "            if len(stack) == 0:\n",
    "                return 'NO'\n",
    "                \n",
    "            strChar = stack.pop()\n",
    "            if char == ')' and strChar != '(':\n",
    "                return 'NO'\n",
    "            elif char == '}' and strChar != '{':\n",
    "                return 'NO'\n",
    "            elif char == ']' and strChar != '[':\n",
    "                return 'NO'\n",
    "    \n",
    "    if len(stack) > 0:\n",
    "        return 'NO'\n",
    "    \n",
    "    return 'YES'\n",
    "\n",
    "for _ in range(T):\n",
    "    strText = input()\n",
    "    \n",
    "    print(myFunc(strText))"
   ]
  },
  {
   "cell_type": "code",
   "execution_count": 46,
   "metadata": {},
   "outputs": [
    {
     "name": "stdout",
     "output_type": "stream",
     "text": [
      "4\n",
      "10 37 19 48 2 5\n",
      "1\n",
      "46\n",
      "10 37 19 48 2 5\n",
      "2\n",
      "32\n",
      "1 10 2 9 3 8 4 7 5 6\n",
      "3\n",
      "5\n",
      "1 10 2 9 3 8 4 7 5 6\n",
      "10\n",
      "9\n"
     ]
    }
   ],
   "source": [
    "import random\n",
    "\n",
    "def selection(S, k):\n",
    "    while True:\n",
    "        vIndex = random.randint(0, len(S) - 1)\n",
    "        V = S[vIndex]\n",
    "        listS_L = []\n",
    "        listV = []\n",
    "        listS_R = []\n",
    "\n",
    "        for num in S:\n",
    "            if num < V:\n",
    "                listS_L.append(num)\n",
    "            elif num == V:\n",
    "                listV.append(num)\n",
    "            else:\n",
    "                listS_R.append(num)\n",
    "        \n",
    "        if len(listS_L) + len(listS_R) + 1 >= len(S) * 3 // 4:\n",
    "            break\n",
    "            \n",
    "    if k <= len(listS_L):\n",
    "        return selection(listS_L, k)\n",
    "    elif len(listS_L) < k and k <= len(listS_L) + len(listV):\n",
    "        return V\n",
    "    else:\n",
    "        return selection(listS_R, k - (len(listS_L) + len(listV)))\n",
    "    \n",
    "    \n",
    "T = int(input())\n",
    "for _ in range(T):\n",
    "    listNum = list(map(int, input().split()))\n",
    "    k = int(input())\n",
    "\n",
    "    result = selection(listNum, k)\n",
    "    result2 = selection(listNum, len(listNum) - k + 1)\n",
    "\n",
    "    print(abs(result2 - result))\n",
    "    "
   ]
  },
  {
   "cell_type": "code",
   "execution_count": null,
   "metadata": {},
   "outputs": [],
   "source": [
    "import heapq\n",
    "\n",
    "T = int(input())\n",
    "for _ in range(T):\n",
    "    N = int(input())\n",
    "    \n",
    "    hqMin = []\n",
    "    hqMax = []\n",
    "    \n",
    "    for _ in range(N):\n",
    "        iInput = int(input())\n",
    "        \n",
    "        if iInput > 0:\n",
    "            bCheck = [True]\n",
    "            heapq.heappush(hqMin, (iInput, bCheck))\n",
    "            heapq.heappush(hqMax, (-iInput, bCheck))\n",
    "        elif iInput == -1:\n",
    "            while True:\n",
    "                iInput, listBool = heapq.heappop(hqMin)\n",
    "                \n",
    "                if listBool[0] == True:\n",
    "                    listBool[0] = False\n",
    "                    print(iInput)\n",
    "                    break\n",
    "        elif iInput == -2:\n",
    "            while True:\n",
    "                iInput, listBool = heapq.heappop(hqMax)\n",
    "                \n",
    "                if listBool[0] == True:\n",
    "                    listBool[0] = False\n",
    "                    print(-iInput)\n",
    "                    break"
   ]
  },
  {
   "cell_type": "markdown",
   "metadata": {},
   "source": [
    "# "
   ]
  }
 ],
 "metadata": {
  "kernelspec": {
   "display_name": "Python 3",
   "language": "python",
   "name": "python3"
  },
  "language_info": {
   "codemirror_mode": {
    "name": "ipython",
    "version": 3
   },
   "file_extension": ".py",
   "mimetype": "text/x-python",
   "name": "python",
   "nbconvert_exporter": "python",
   "pygments_lexer": "ipython3",
   "version": "3.8.3"
  }
 },
 "nbformat": 4,
 "nbformat_minor": 4
}
